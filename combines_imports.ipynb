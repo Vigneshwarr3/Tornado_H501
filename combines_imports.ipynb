{
 "cells": [
  {
   "cell_type": "code",
   "execution_count": 1,
   "id": "5e37b9c9-0a6a-489f-9569-81881e7dcf88",
   "metadata": {},
   "outputs": [],
   "source": [
    "import pandas as pd\n",
    "import numpy as np"
   ]
  },
  {
   "cell_type": "code",
   "execution_count": 2,
   "id": "76361501-220d-4011-a05c-f2b4c6bcd162",
   "metadata": {},
   "outputs": [
    {
     "name": "stdout",
     "output_type": "stream",
     "text": [
      "Collecting nbimporter\n",
      "  Using cached nbimporter-0.3.4-py3-none-any.whl.metadata (252 bytes)\n",
      "Using cached nbimporter-0.3.4-py3-none-any.whl (4.9 kB)\n",
      "Installing collected packages: nbimporter\n",
      "Successfully installed nbimporter-0.3.4\n"
     ]
    }
   ],
   "source": [
    "!pip install nbimporter"
   ]
  },
  {
   "cell_type": "code",
   "execution_count": 3,
   "id": "a48331c1-109b-49c9-9603-1c47ef5994c3",
   "metadata": {},
   "outputs": [],
   "source": [
    "import nbimporter\n",
    "import imports"
   ]
  },
  {
   "cell_type": "code",
   "execution_count": 4,
   "id": "c95cdfec-46a1-4686-b209-4686f5cb45a1",
   "metadata": {},
   "outputs": [],
   "source": [
    "state_data = imports.create_state_data()"
   ]
  },
  {
   "cell_type": "code",
   "execution_count": 5,
   "id": "94d3c101-809e-4f1c-926e-81b3b1e89722",
   "metadata": {},
   "outputs": [
    {
     "data": {
      "text/html": [
       "<div>\n",
       "<style scoped>\n",
       "    .dataframe tbody tr th:only-of-type {\n",
       "        vertical-align: middle;\n",
       "    }\n",
       "\n",
       "    .dataframe tbody tr th {\n",
       "        vertical-align: top;\n",
       "    }\n",
       "\n",
       "    .dataframe thead th {\n",
       "        text-align: right;\n",
       "    }\n",
       "</style>\n",
       "<table border=\"1\" class=\"dataframe\">\n",
       "  <thead>\n",
       "    <tr style=\"text-align: right;\">\n",
       "      <th></th>\n",
       "      <th>state</th>\n",
       "      <th>total_area</th>\n",
       "      <th>land_area</th>\n",
       "      <th>water_area</th>\n",
       "      <th>ANSI</th>\n",
       "      <th>1960</th>\n",
       "      <th>1970</th>\n",
       "      <th>1980</th>\n",
       "      <th>1990</th>\n",
       "      <th>2000</th>\n",
       "      <th>2010</th>\n",
       "      <th>2020</th>\n",
       "    </tr>\n",
       "  </thead>\n",
       "  <tbody>\n",
       "    <tr>\n",
       "      <th>0</th>\n",
       "      <td>Alaska</td>\n",
       "      <td>665384</td>\n",
       "      <td>570641</td>\n",
       "      <td>94743</td>\n",
       "      <td>AK</td>\n",
       "      <td>226167</td>\n",
       "      <td>300382</td>\n",
       "      <td>401851</td>\n",
       "      <td>550043</td>\n",
       "      <td>626932</td>\n",
       "      <td>710231</td>\n",
       "      <td>733391</td>\n",
       "    </tr>\n",
       "    <tr>\n",
       "      <th>1</th>\n",
       "      <td>Texas</td>\n",
       "      <td>268596</td>\n",
       "      <td>261232</td>\n",
       "      <td>7365</td>\n",
       "      <td>TX</td>\n",
       "      <td>9579677</td>\n",
       "      <td>11196730</td>\n",
       "      <td>14229191</td>\n",
       "      <td>16986510</td>\n",
       "      <td>20851820</td>\n",
       "      <td>25145561</td>\n",
       "      <td>29145505</td>\n",
       "    </tr>\n",
       "    <tr>\n",
       "      <th>2</th>\n",
       "      <td>California</td>\n",
       "      <td>163695</td>\n",
       "      <td>155779</td>\n",
       "      <td>7916</td>\n",
       "      <td>CA</td>\n",
       "      <td>15717204</td>\n",
       "      <td>19953134</td>\n",
       "      <td>23667902</td>\n",
       "      <td>29760021</td>\n",
       "      <td>33871648</td>\n",
       "      <td>37253956</td>\n",
       "      <td>39538223</td>\n",
       "    </tr>\n",
       "    <tr>\n",
       "      <th>3</th>\n",
       "      <td>Montana</td>\n",
       "      <td>147040</td>\n",
       "      <td>145546</td>\n",
       "      <td>1494</td>\n",
       "      <td>MT</td>\n",
       "      <td>674767</td>\n",
       "      <td>694409</td>\n",
       "      <td>786690</td>\n",
       "      <td>799065</td>\n",
       "      <td>902195</td>\n",
       "      <td>989415</td>\n",
       "      <td>1084225</td>\n",
       "    </tr>\n",
       "    <tr>\n",
       "      <th>4</th>\n",
       "      <td>New Mexico</td>\n",
       "      <td>121590</td>\n",
       "      <td>121298</td>\n",
       "      <td>292</td>\n",
       "      <td>NM</td>\n",
       "      <td>951023</td>\n",
       "      <td>1016000</td>\n",
       "      <td>1302894</td>\n",
       "      <td>1515069</td>\n",
       "      <td>1819046</td>\n",
       "      <td>2059179</td>\n",
       "      <td>2117522</td>\n",
       "    </tr>\n",
       "  </tbody>\n",
       "</table>\n",
       "</div>"
      ],
      "text/plain": [
       "        state  total_area  land_area  water_area ANSI      1960      1970  \\\n",
       "0      Alaska      665384     570641       94743   AK    226167    300382   \n",
       "1       Texas      268596     261232        7365   TX   9579677  11196730   \n",
       "2  California      163695     155779        7916   CA  15717204  19953134   \n",
       "3     Montana      147040     145546        1494   MT    674767    694409   \n",
       "4  New Mexico      121590     121298         292   NM    951023   1016000   \n",
       "\n",
       "       1980      1990      2000      2010      2020  \n",
       "0    401851    550043    626932    710231    733391  \n",
       "1  14229191  16986510  20851820  25145561  29145505  \n",
       "2  23667902  29760021  33871648  37253956  39538223  \n",
       "3    786690    799065    902195    989415   1084225  \n",
       "4   1302894   1515069   1819046   2059179   2117522  "
      ]
     },
     "execution_count": 5,
     "metadata": {},
     "output_type": "execute_result"
    }
   ],
   "source": [
    "state_data.head()"
   ]
  },
  {
   "cell_type": "code",
   "execution_count": 6,
   "id": "6dd467de-15bb-47a1-a4f5-189f84026cac",
   "metadata": {},
   "outputs": [],
   "source": [
    "path = 'tornados_new.csv'\n",
    "tornados = pd.read_csv(path)"
   ]
  },
  {
   "cell_type": "code",
   "execution_count": 7,
   "id": "3f455da5-da8b-4a94-be70-aec3389c9a76",
   "metadata": {},
   "outputs": [],
   "source": [
    "fat_state = tornados.groupby('st').agg({'fat': 'sum'})"
   ]
  },
  {
   "cell_type": "code",
   "execution_count": 8,
   "id": "2651ba5d-1a8e-430c-bd89-8332a73559e6",
   "metadata": {},
   "outputs": [],
   "source": [
    "state_area = state_data[['ANSI','total_area']]"
   ]
  },
  {
   "cell_type": "code",
   "execution_count": 9,
   "id": "d737e32c-d444-4cef-922f-34ab31ce2c24",
   "metadata": {},
   "outputs": [
    {
     "data": {
      "text/html": [
       "<div>\n",
       "<style scoped>\n",
       "    .dataframe tbody tr th:only-of-type {\n",
       "        vertical-align: middle;\n",
       "    }\n",
       "\n",
       "    .dataframe tbody tr th {\n",
       "        vertical-align: top;\n",
       "    }\n",
       "\n",
       "    .dataframe thead th {\n",
       "        text-align: right;\n",
       "    }\n",
       "</style>\n",
       "<table border=\"1\" class=\"dataframe\">\n",
       "  <thead>\n",
       "    <tr style=\"text-align: right;\">\n",
       "      <th></th>\n",
       "      <th>ANSI</th>\n",
       "      <th>total_area</th>\n",
       "    </tr>\n",
       "  </thead>\n",
       "  <tbody>\n",
       "    <tr>\n",
       "      <th>0</th>\n",
       "      <td>AK</td>\n",
       "      <td>665384</td>\n",
       "    </tr>\n",
       "    <tr>\n",
       "      <th>1</th>\n",
       "      <td>TX</td>\n",
       "      <td>268596</td>\n",
       "    </tr>\n",
       "    <tr>\n",
       "      <th>2</th>\n",
       "      <td>CA</td>\n",
       "      <td>163695</td>\n",
       "    </tr>\n",
       "    <tr>\n",
       "      <th>3</th>\n",
       "      <td>MT</td>\n",
       "      <td>147040</td>\n",
       "    </tr>\n",
       "    <tr>\n",
       "      <th>4</th>\n",
       "      <td>NM</td>\n",
       "      <td>121590</td>\n",
       "    </tr>\n",
       "  </tbody>\n",
       "</table>\n",
       "</div>"
      ],
      "text/plain": [
       "  ANSI  total_area\n",
       "0   AK      665384\n",
       "1   TX      268596\n",
       "2   CA      163695\n",
       "3   MT      147040\n",
       "4   NM      121590"
      ]
     },
     "execution_count": 9,
     "metadata": {},
     "output_type": "execute_result"
    }
   ],
   "source": [
    "state_area.head()"
   ]
  },
  {
   "cell_type": "code",
   "execution_count": 10,
   "id": "de67af54-c442-4b20-b4d5-176d1897064c",
   "metadata": {},
   "outputs": [],
   "source": [
    "fatality = fat_state.merge(state_area, left_index=True, right_on='ANSI', how='left').reset_index()"
   ]
  },
  {
   "cell_type": "code",
   "execution_count": 11,
   "id": "871e1393-5933-419b-a402-be497b5ab46d",
   "metadata": {},
   "outputs": [],
   "source": [
    "fatality['fatPer10ksqmi'] = fatality['fat'] / fatality['total_area'] * 10000"
   ]
  },
  {
   "cell_type": "code",
   "execution_count": 12,
   "id": "f3f2ceae-e41b-4a84-8e5c-bc368c8267c6",
   "metadata": {},
   "outputs": [
    {
     "data": {
      "text/html": [
       "<div>\n",
       "<style scoped>\n",
       "    .dataframe tbody tr th:only-of-type {\n",
       "        vertical-align: middle;\n",
       "    }\n",
       "\n",
       "    .dataframe tbody tr th {\n",
       "        vertical-align: top;\n",
       "    }\n",
       "\n",
       "    .dataframe thead th {\n",
       "        text-align: right;\n",
       "    }\n",
       "</style>\n",
       "<table border=\"1\" class=\"dataframe\">\n",
       "  <thead>\n",
       "    <tr style=\"text-align: right;\">\n",
       "      <th></th>\n",
       "      <th>fat</th>\n",
       "      <th>ANSI</th>\n",
       "      <th>total_area</th>\n",
       "      <th>fatPer10ksqmi</th>\n",
       "    </tr>\n",
       "  </thead>\n",
       "  <tbody>\n",
       "    <tr>\n",
       "      <th>43</th>\n",
       "      <td>592</td>\n",
       "      <td>TN</td>\n",
       "      <td>42144</td>\n",
       "      <td>140.470767</td>\n",
       "    </tr>\n",
       "    <tr>\n",
       "      <th>10</th>\n",
       "      <td>303</td>\n",
       "      <td>GA</td>\n",
       "      <td>59425</td>\n",
       "      <td>50.988641</td>\n",
       "    </tr>\n",
       "    <tr>\n",
       "      <th>1</th>\n",
       "      <td>267</td>\n",
       "      <td>AL</td>\n",
       "      <td>52420</td>\n",
       "      <td>50.934758</td>\n",
       "    </tr>\n",
       "    <tr>\n",
       "      <th>25</th>\n",
       "      <td>205</td>\n",
       "      <td>MS</td>\n",
       "      <td>48432</td>\n",
       "      <td>42.327387</td>\n",
       "    </tr>\n",
       "    <tr>\n",
       "      <th>24</th>\n",
       "      <td>265</td>\n",
       "      <td>MO</td>\n",
       "      <td>69707</td>\n",
       "      <td>38.016268</td>\n",
       "    </tr>\n",
       "  </tbody>\n",
       "</table>\n",
       "</div>"
      ],
      "text/plain": [
       "    fat ANSI  total_area  fatPer10ksqmi\n",
       "43  592   TN       42144     140.470767\n",
       "10  303   GA       59425      50.988641\n",
       "1   267   AL       52420      50.934758\n",
       "25  205   MS       48432      42.327387\n",
       "24  265   MO       69707      38.016268"
      ]
     },
     "execution_count": 12,
     "metadata": {},
     "output_type": "execute_result"
    }
   ],
   "source": [
    "fatality = fatality.sort_values(by='fatPer10ksqmi', ascending=False).drop('index', axis=1)\n",
    "fatality.head()"
   ]
  },
  {
   "cell_type": "code",
   "execution_count": 13,
   "id": "a2e54106-33f0-41ed-80d7-0538f0736793",
   "metadata": {},
   "outputs": [
    {
     "data": {
      "text/html": [
       "<div>\n",
       "<style scoped>\n",
       "    .dataframe tbody tr th:only-of-type {\n",
       "        vertical-align: middle;\n",
       "    }\n",
       "\n",
       "    .dataframe tbody tr th {\n",
       "        vertical-align: top;\n",
       "    }\n",
       "\n",
       "    .dataframe thead th {\n",
       "        text-align: right;\n",
       "    }\n",
       "</style>\n",
       "<table border=\"1\" class=\"dataframe\">\n",
       "  <thead>\n",
       "    <tr style=\"text-align: right;\">\n",
       "      <th></th>\n",
       "      <th>fat</th>\n",
       "      <th>ANSI</th>\n",
       "      <th>total_area</th>\n",
       "      <th>fatPer10ksqmi</th>\n",
       "    </tr>\n",
       "  </thead>\n",
       "  <tbody>\n",
       "    <tr>\n",
       "      <th>43</th>\n",
       "      <td>592</td>\n",
       "      <td>TN</td>\n",
       "      <td>42144</td>\n",
       "      <td>140.470767</td>\n",
       "    </tr>\n",
       "    <tr>\n",
       "      <th>10</th>\n",
       "      <td>303</td>\n",
       "      <td>GA</td>\n",
       "      <td>59425</td>\n",
       "      <td>50.988641</td>\n",
       "    </tr>\n",
       "    <tr>\n",
       "      <th>1</th>\n",
       "      <td>267</td>\n",
       "      <td>AL</td>\n",
       "      <td>52420</td>\n",
       "      <td>50.934758</td>\n",
       "    </tr>\n",
       "    <tr>\n",
       "      <th>25</th>\n",
       "      <td>205</td>\n",
       "      <td>MS</td>\n",
       "      <td>48432</td>\n",
       "      <td>42.327387</td>\n",
       "    </tr>\n",
       "    <tr>\n",
       "      <th>24</th>\n",
       "      <td>265</td>\n",
       "      <td>MO</td>\n",
       "      <td>69707</td>\n",
       "      <td>38.016268</td>\n",
       "    </tr>\n",
       "    <tr>\n",
       "      <th>17</th>\n",
       "      <td>127</td>\n",
       "      <td>KY</td>\n",
       "      <td>40408</td>\n",
       "      <td>31.429420</td>\n",
       "    </tr>\n",
       "    <tr>\n",
       "      <th>36</th>\n",
       "      <td>179</td>\n",
       "      <td>OK</td>\n",
       "      <td>69899</td>\n",
       "      <td>25.608378</td>\n",
       "    </tr>\n",
       "    <tr>\n",
       "      <th>2</th>\n",
       "      <td>112</td>\n",
       "      <td>AR</td>\n",
       "      <td>53179</td>\n",
       "      <td>21.060945</td>\n",
       "    </tr>\n",
       "    <tr>\n",
       "      <th>9</th>\n",
       "      <td>94</td>\n",
       "      <td>FL</td>\n",
       "      <td>65758</td>\n",
       "      <td>14.294839</td>\n",
       "    </tr>\n",
       "    <tr>\n",
       "      <th>51</th>\n",
       "      <td>26</td>\n",
       "      <td>WV</td>\n",
       "      <td>24230</td>\n",
       "      <td>10.730499</td>\n",
       "    </tr>\n",
       "  </tbody>\n",
       "</table>\n",
       "</div>"
      ],
      "text/plain": [
       "    fat ANSI  total_area  fatPer10ksqmi\n",
       "43  592   TN       42144     140.470767\n",
       "10  303   GA       59425      50.988641\n",
       "1   267   AL       52420      50.934758\n",
       "25  205   MS       48432      42.327387\n",
       "24  265   MO       69707      38.016268\n",
       "17  127   KY       40408      31.429420\n",
       "36  179   OK       69899      25.608378\n",
       "2   112   AR       53179      21.060945\n",
       "9    94   FL       65758      14.294839\n",
       "51   26   WV       24230      10.730499"
      ]
     },
     "execution_count": 13,
     "metadata": {},
     "output_type": "execute_result"
    }
   ],
   "source": [
    "fatality.iloc[0:10]"
   ]
  },
  {
   "cell_type": "code",
   "execution_count": 14,
   "id": "d5eacfbc-50f8-41b8-87c6-5d7cbedf3b61",
   "metadata": {},
   "outputs": [
    {
     "name": "stdout",
     "output_type": "stream",
     "text": [
      "Requirement already satisfied: seaborn in c:\\users\\thomas\\miniconda3\\envs\\envname\\lib\\site-packages (0.13.2)\n",
      "Requirement already satisfied: numpy!=1.24.0,>=1.20 in c:\\users\\thomas\\miniconda3\\envs\\envname\\lib\\site-packages (from seaborn) (2.0.2)\n",
      "Requirement already satisfied: pandas>=1.2 in c:\\users\\thomas\\miniconda3\\envs\\envname\\lib\\site-packages (from seaborn) (2.2.2)\n",
      "Requirement already satisfied: matplotlib!=3.6.1,>=3.4 in c:\\users\\thomas\\miniconda3\\envs\\envname\\lib\\site-packages (from seaborn) (3.9.2)\n",
      "Requirement already satisfied: contourpy>=1.0.1 in c:\\users\\thomas\\miniconda3\\envs\\envname\\lib\\site-packages (from matplotlib!=3.6.1,>=3.4->seaborn) (1.3.0)\n",
      "Requirement already satisfied: cycler>=0.10 in c:\\users\\thomas\\miniconda3\\envs\\envname\\lib\\site-packages (from matplotlib!=3.6.1,>=3.4->seaborn) (0.12.1)\n",
      "Requirement already satisfied: fonttools>=4.22.0 in c:\\users\\thomas\\miniconda3\\envs\\envname\\lib\\site-packages (from matplotlib!=3.6.1,>=3.4->seaborn) (4.53.1)\n",
      "Requirement already satisfied: kiwisolver>=1.3.1 in c:\\users\\thomas\\miniconda3\\envs\\envname\\lib\\site-packages (from matplotlib!=3.6.1,>=3.4->seaborn) (1.4.7)\n",
      "Requirement already satisfied: packaging>=20.0 in c:\\users\\thomas\\miniconda3\\envs\\envname\\lib\\site-packages (from matplotlib!=3.6.1,>=3.4->seaborn) (24.1)\n",
      "Requirement already satisfied: pillow>=8 in c:\\users\\thomas\\miniconda3\\envs\\envname\\lib\\site-packages (from matplotlib!=3.6.1,>=3.4->seaborn) (10.4.0)\n",
      "Requirement already satisfied: pyparsing>=2.3.1 in c:\\users\\thomas\\miniconda3\\envs\\envname\\lib\\site-packages (from matplotlib!=3.6.1,>=3.4->seaborn) (3.1.4)\n",
      "Requirement already satisfied: python-dateutil>=2.7 in c:\\users\\thomas\\miniconda3\\envs\\envname\\lib\\site-packages (from matplotlib!=3.6.1,>=3.4->seaborn) (2.9.0.post0)\n",
      "Requirement already satisfied: importlib-resources>=3.2.0 in c:\\users\\thomas\\miniconda3\\envs\\envname\\lib\\site-packages (from matplotlib!=3.6.1,>=3.4->seaborn) (6.4.5)\n",
      "Requirement already satisfied: pytz>=2020.1 in c:\\users\\thomas\\miniconda3\\envs\\envname\\lib\\site-packages (from pandas>=1.2->seaborn) (2024.1)\n",
      "Requirement already satisfied: tzdata>=2022.7 in c:\\users\\thomas\\miniconda3\\envs\\envname\\lib\\site-packages (from pandas>=1.2->seaborn) (2024.1)\n",
      "Requirement already satisfied: zipp>=3.1.0 in c:\\users\\thomas\\miniconda3\\envs\\envname\\lib\\site-packages (from importlib-resources>=3.2.0->matplotlib!=3.6.1,>=3.4->seaborn) (3.20.1)\n",
      "Requirement already satisfied: six>=1.5 in c:\\users\\thomas\\miniconda3\\envs\\envname\\lib\\site-packages (from python-dateutil>=2.7->matplotlib!=3.6.1,>=3.4->seaborn) (1.16.0)\n"
     ]
    }
   ],
   "source": [
    "import matplotlib.pyplot as plt\n",
    "!pip install seaborn\n",
    "import seaborn as sns"
   ]
  },
  {
   "cell_type": "code",
   "execution_count": 15,
   "id": "eb4c8085-d98b-4b77-9a2b-538c5dacb455",
   "metadata": {},
   "outputs": [
    {
     "data": {
      "text/plain": [
       "<AxesSubplot: xlabel='ANSI', ylabel='fatPer10ksqmi'>"
      ]
     },
     "execution_count": 15,
     "metadata": {},
     "output_type": "execute_result"
    },
    {
     "data": {
      "image/png": "[encoded data removed]",
      "text/plain": [
       "<Figure size 640x480 with 1 Axes>"
      ]
     },
     "metadata": {},
     "output_type": "display_data"
    }
   ],
   "source": [
    "sns.barplot(data = fatality.iloc[0:10], x = 'ANSI', y = 'fatPer10ksqmi')"
   ]
  },
  {
   "cell_type": "code",
   "execution_count": 16,
   "id": "821dbdd7-6d77-4f73-acc7-dcd75ad33f27",
   "metadata": {},
   "outputs": [],
   "source": [
    "state_area_pop_2020 = state_data[['ANSI','total_area', '2020']]"
   ]
  },
  {
   "cell_type": "code",
   "execution_count": 36,
   "id": "5617d528-59af-421b-8aac-20d1991e9ca9",
   "metadata": {},
   "outputs": [],
   "source": [
    "new = fat_state.merge(state_area_pop_2020, left_index=True, right_on='ANSI', how='left').reset_index()"
   ]
  },
  {
   "cell_type": "code",
   "execution_count": 37,
   "id": "9d5fd194-f2f9-4eb3-86b0-c3ea4dd9571b",
   "metadata": {},
   "outputs": [],
   "source": [
    "new['2020'] = new['2020'].astype(int)"
   ]
  },
  {
   "cell_type": "code",
   "execution_count": 38,
   "id": "a912fb39-d020-4d7f-b377-6f6ec1ae39b2",
   "metadata": {},
   "outputs": [],
   "source": [
    "new['fatPer10ksqmi'] = new['fat'] / new['total_area'] * 10000\n",
    "new['fatPer100kppl'] = new['fat'] / new['2020'] * 100000"
   ]
  },
  {
   "cell_type": "code",
   "execution_count": 39,
   "id": "4630d694-24fa-4eb1-b39a-ff553803d282",
   "metadata": {},
   "outputs": [
    {
     "data": {
      "text/html": [
       "<div>\n",
       "<style scoped>\n",
       "    .dataframe tbody tr th:only-of-type {\n",
       "        vertical-align: middle;\n",
       "    }\n",
       "\n",
       "    .dataframe tbody tr th {\n",
       "        vertical-align: top;\n",
       "    }\n",
       "\n",
       "    .dataframe thead th {\n",
       "        text-align: right;\n",
       "    }\n",
       "</style>\n",
       "<table border=\"1\" class=\"dataframe\">\n",
       "  <thead>\n",
       "    <tr style=\"text-align: right;\">\n",
       "      <th></th>\n",
       "      <th>fat</th>\n",
       "      <th>ANSI</th>\n",
       "      <th>total_area</th>\n",
       "      <th>2020</th>\n",
       "      <th>fatPer10ksqmi</th>\n",
       "      <th>fatPer100kppl</th>\n",
       "    </tr>\n",
       "  </thead>\n",
       "  <tbody>\n",
       "    <tr>\n",
       "      <th>43</th>\n",
       "      <td>592</td>\n",
       "      <td>TN</td>\n",
       "      <td>42144</td>\n",
       "      <td>6910840</td>\n",
       "      <td>140.470767</td>\n",
       "      <td>8.566252</td>\n",
       "    </tr>\n",
       "    <tr>\n",
       "      <th>25</th>\n",
       "      <td>205</td>\n",
       "      <td>MS</td>\n",
       "      <td>48432</td>\n",
       "      <td>2961279</td>\n",
       "      <td>42.327387</td>\n",
       "      <td>6.922684</td>\n",
       "    </tr>\n",
       "    <tr>\n",
       "      <th>1</th>\n",
       "      <td>267</td>\n",
       "      <td>AL</td>\n",
       "      <td>52420</td>\n",
       "      <td>5024279</td>\n",
       "      <td>50.934758</td>\n",
       "      <td>5.314195</td>\n",
       "    </tr>\n",
       "    <tr>\n",
       "      <th>36</th>\n",
       "      <td>179</td>\n",
       "      <td>OK</td>\n",
       "      <td>69899</td>\n",
       "      <td>3959353</td>\n",
       "      <td>25.608378</td>\n",
       "      <td>4.520941</td>\n",
       "    </tr>\n",
       "    <tr>\n",
       "      <th>24</th>\n",
       "      <td>265</td>\n",
       "      <td>MO</td>\n",
       "      <td>69707</td>\n",
       "      <td>6154913</td>\n",
       "      <td>38.016268</td>\n",
       "      <td>4.305504</td>\n",
       "    </tr>\n",
       "  </tbody>\n",
       "</table>\n",
       "</div>"
      ],
      "text/plain": [
       "    fat ANSI  total_area     2020  fatPer10ksqmi  fatPer100kppl\n",
       "43  592   TN       42144  6910840     140.470767       8.566252\n",
       "25  205   MS       48432  2961279      42.327387       6.922684\n",
       "1   267   AL       52420  5024279      50.934758       5.314195\n",
       "36  179   OK       69899  3959353      25.608378       4.520941\n",
       "24  265   MO       69707  6154913      38.016268       4.305504"
      ]
     },
     "execution_count": 39,
     "metadata": {},
     "output_type": "execute_result"
    }
   ],
   "source": [
    "new = new.sort_values(by='fatPer100kppl', ascending=False).drop('index', axis=1)\n",
    "new.head()"
   ]
  },
  {
   "cell_type": "code",
   "execution_count": 40,
   "id": "8a65d13a-094c-4c23-bd20-d5cb52e9a843",
   "metadata": {},
   "outputs": [
    {
     "data": {
      "text/plain": [
       "<AxesSubplot: xlabel='ANSI', ylabel='fatPer100kppl'>"
      ]
     },
     "execution_count": 40,
     "metadata": {},
     "output_type": "execute_result"
    },
    {
     "data": {
      "image/png": "[encoded data removed]",
      "text/plain": [
       "<Figure size 640x480 with 1 Axes>"
      ]
     },
     "metadata": {},
     "output_type": "display_data"
    }
   ],
   "source": [
    "sns.barplot(data = new.iloc[0:10], x = 'ANSI', y = 'fatPer100kppl')"
   ]
  },
  {
   "cell_type": "markdown",
   "id": "f19d3726-5243-4afe-be78-20711ce9080a",
   "metadata": {},
   "source": [
    "The above graph isn't great because it doesn't account for fatalities per event per year.  This is gonna be something to fix in a futher dataframe.  However, it does show that the general logic can be done.  All we'd need to do is probably put this in a function and tada, that's all we need."
   ]
  }
 ],
 "metadata": {
  "kernelspec": {
   "display_name": "Python 3 (ipykernel)",
   "language": "python",
   "name": "python3"
  },
  "language_info": {
   "codemirror_mode": {
    "name": "ipython",
    "version": 3
   },
   "file_extension": ".py",
   "mimetype": "text/x-python",
   "name": "python",
   "nbconvert_exporter": "python",
   "pygments_lexer": "ipython3",
   "version": "3.11.0"
  }
 },
 "nbformat": 4,
 "nbformat_minor": 5
}
