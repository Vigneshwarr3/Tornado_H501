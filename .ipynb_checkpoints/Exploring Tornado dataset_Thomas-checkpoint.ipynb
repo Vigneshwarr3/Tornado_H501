{
 "cells": [
  {
   "cell_type": "markdown",
   "id": "ea567125-2f7c-4827-8283-584b8c34500f",
   "metadata": {},
   "source": [
    "# Group 4 - Standup Report"
   ]
  },
  {
   "cell_type": "code",
   "execution_count": 2,
   "id": "33602ccd-6db8-4ee8-bcb9-5464f4c5ac75",
   "metadata": {},
   "outputs": [],
   "source": [
    "import pandas as pd\n",
    "import numpy as np\n",
    "import matplotlib.pyplot as plt\n",
    "import seaborn as sns"
   ]
  },
  {
   "cell_type": "code",
   "execution_count": 66,
   "id": "9cf84943-9176-4693-a7ac-42631c24826d",
   "metadata": {},
   "outputs": [],
   "source": [
    "df = pd.read_csv('1950-2023_all_tornadoes.csv')"
   ]
  },
  {
   "cell_type": "code",
   "execution_count": 5,
   "id": "0d3c0078-3f9e-4c7f-98d4-73cd9b4b0975",
   "metadata": {},
   "outputs": [
    {
     "data": {
      "text/html": [
       "<div>\n",
       "<style scoped>\n",
       "    .dataframe tbody tr th:only-of-type {\n",
       "        vertical-align: middle;\n",
       "    }\n",
       "\n",
       "    .dataframe tbody tr th {\n",
       "        vertical-align: top;\n",
       "    }\n",
       "\n",
       "    .dataframe thead th {\n",
       "        text-align: right;\n",
       "    }\n",
       "</style>\n",
       "<table border=\"1\" class=\"dataframe\">\n",
       "  <thead>\n",
       "    <tr style=\"text-align: right;\">\n",
       "      <th></th>\n",
       "      <th>om</th>\n",
       "      <th>yr</th>\n",
       "      <th>mo</th>\n",
       "      <th>dy</th>\n",
       "      <th>date</th>\n",
       "      <th>time</th>\n",
       "      <th>tz</th>\n",
       "      <th>st</th>\n",
       "      <th>stf</th>\n",
       "      <th>stn</th>\n",
       "      <th>...</th>\n",
       "      <th>len</th>\n",
       "      <th>wid</th>\n",
       "      <th>ns</th>\n",
       "      <th>sn</th>\n",
       "      <th>sg</th>\n",
       "      <th>f1</th>\n",
       "      <th>f2</th>\n",
       "      <th>f3</th>\n",
       "      <th>f4</th>\n",
       "      <th>fc</th>\n",
       "    </tr>\n",
       "  </thead>\n",
       "  <tbody>\n",
       "    <tr>\n",
       "      <th>0</th>\n",
       "      <td>192</td>\n",
       "      <td>1950</td>\n",
       "      <td>10</td>\n",
       "      <td>1</td>\n",
       "      <td>1950-10-01</td>\n",
       "      <td>21:00:00</td>\n",
       "      <td>3</td>\n",
       "      <td>OK</td>\n",
       "      <td>40</td>\n",
       "      <td>23</td>\n",
       "      <td>...</td>\n",
       "      <td>15.80</td>\n",
       "      <td>10</td>\n",
       "      <td>1</td>\n",
       "      <td>1</td>\n",
       "      <td>1</td>\n",
       "      <td>25</td>\n",
       "      <td>0</td>\n",
       "      <td>0</td>\n",
       "      <td>0</td>\n",
       "      <td>0</td>\n",
       "    </tr>\n",
       "    <tr>\n",
       "      <th>1</th>\n",
       "      <td>193</td>\n",
       "      <td>1950</td>\n",
       "      <td>10</td>\n",
       "      <td>9</td>\n",
       "      <td>1950-10-09</td>\n",
       "      <td>02:15:00</td>\n",
       "      <td>3</td>\n",
       "      <td>NC</td>\n",
       "      <td>37</td>\n",
       "      <td>9</td>\n",
       "      <td>...</td>\n",
       "      <td>2.00</td>\n",
       "      <td>880</td>\n",
       "      <td>1</td>\n",
       "      <td>1</td>\n",
       "      <td>1</td>\n",
       "      <td>47</td>\n",
       "      <td>0</td>\n",
       "      <td>0</td>\n",
       "      <td>0</td>\n",
       "      <td>0</td>\n",
       "    </tr>\n",
       "    <tr>\n",
       "      <th>2</th>\n",
       "      <td>195</td>\n",
       "      <td>1950</td>\n",
       "      <td>11</td>\n",
       "      <td>20</td>\n",
       "      <td>1950-11-20</td>\n",
       "      <td>02:20:00</td>\n",
       "      <td>3</td>\n",
       "      <td>KY</td>\n",
       "      <td>21</td>\n",
       "      <td>1</td>\n",
       "      <td>...</td>\n",
       "      <td>0.10</td>\n",
       "      <td>10</td>\n",
       "      <td>1</td>\n",
       "      <td>1</td>\n",
       "      <td>1</td>\n",
       "      <td>177</td>\n",
       "      <td>0</td>\n",
       "      <td>0</td>\n",
       "      <td>0</td>\n",
       "      <td>0</td>\n",
       "    </tr>\n",
       "    <tr>\n",
       "      <th>3</th>\n",
       "      <td>196</td>\n",
       "      <td>1950</td>\n",
       "      <td>11</td>\n",
       "      <td>20</td>\n",
       "      <td>1950-11-20</td>\n",
       "      <td>04:00:00</td>\n",
       "      <td>3</td>\n",
       "      <td>KY</td>\n",
       "      <td>21</td>\n",
       "      <td>2</td>\n",
       "      <td>...</td>\n",
       "      <td>0.10</td>\n",
       "      <td>10</td>\n",
       "      <td>1</td>\n",
       "      <td>1</td>\n",
       "      <td>1</td>\n",
       "      <td>209</td>\n",
       "      <td>0</td>\n",
       "      <td>0</td>\n",
       "      <td>0</td>\n",
       "      <td>0</td>\n",
       "    </tr>\n",
       "    <tr>\n",
       "      <th>4</th>\n",
       "      <td>197</td>\n",
       "      <td>1950</td>\n",
       "      <td>11</td>\n",
       "      <td>20</td>\n",
       "      <td>1950-11-20</td>\n",
       "      <td>07:30:00</td>\n",
       "      <td>3</td>\n",
       "      <td>MS</td>\n",
       "      <td>28</td>\n",
       "      <td>14</td>\n",
       "      <td>...</td>\n",
       "      <td>2.00</td>\n",
       "      <td>37</td>\n",
       "      <td>1</td>\n",
       "      <td>1</td>\n",
       "      <td>1</td>\n",
       "      <td>101</td>\n",
       "      <td>0</td>\n",
       "      <td>0</td>\n",
       "      <td>0</td>\n",
       "      <td>0</td>\n",
       "    </tr>\n",
       "    <tr>\n",
       "      <th>...</th>\n",
       "      <td>...</td>\n",
       "      <td>...</td>\n",
       "      <td>...</td>\n",
       "      <td>...</td>\n",
       "      <td>...</td>\n",
       "      <td>...</td>\n",
       "      <td>...</td>\n",
       "      <td>...</td>\n",
       "      <td>...</td>\n",
       "      <td>...</td>\n",
       "      <td>...</td>\n",
       "      <td>...</td>\n",
       "      <td>...</td>\n",
       "      <td>...</td>\n",
       "      <td>...</td>\n",
       "      <td>...</td>\n",
       "      <td>...</td>\n",
       "      <td>...</td>\n",
       "      <td>...</td>\n",
       "      <td>...</td>\n",
       "      <td>...</td>\n",
       "    </tr>\n",
       "    <tr>\n",
       "      <th>71393</th>\n",
       "      <td>623328</td>\n",
       "      <td>2023</td>\n",
       "      <td>9</td>\n",
       "      <td>26</td>\n",
       "      <td>2023-09-26</td>\n",
       "      <td>15:05:00</td>\n",
       "      <td>3</td>\n",
       "      <td>FL</td>\n",
       "      <td>12</td>\n",
       "      <td>0</td>\n",
       "      <td>...</td>\n",
       "      <td>0.01</td>\n",
       "      <td>5</td>\n",
       "      <td>1</td>\n",
       "      <td>1</td>\n",
       "      <td>1</td>\n",
       "      <td>19</td>\n",
       "      <td>0</td>\n",
       "      <td>0</td>\n",
       "      <td>0</td>\n",
       "      <td>0</td>\n",
       "    </tr>\n",
       "    <tr>\n",
       "      <th>71394</th>\n",
       "      <td>623329</td>\n",
       "      <td>2023</td>\n",
       "      <td>9</td>\n",
       "      <td>28</td>\n",
       "      <td>2023-09-28</td>\n",
       "      <td>13:40:00</td>\n",
       "      <td>3</td>\n",
       "      <td>OH</td>\n",
       "      <td>39</td>\n",
       "      <td>0</td>\n",
       "      <td>...</td>\n",
       "      <td>0.01</td>\n",
       "      <td>25</td>\n",
       "      <td>1</td>\n",
       "      <td>1</td>\n",
       "      <td>1</td>\n",
       "      <td>97</td>\n",
       "      <td>0</td>\n",
       "      <td>0</td>\n",
       "      <td>0</td>\n",
       "      <td>0</td>\n",
       "    </tr>\n",
       "    <tr>\n",
       "      <th>71395</th>\n",
       "      <td>623330</td>\n",
       "      <td>2023</td>\n",
       "      <td>9</td>\n",
       "      <td>29</td>\n",
       "      <td>2023-09-29</td>\n",
       "      <td>18:48:00</td>\n",
       "      <td>3</td>\n",
       "      <td>MN</td>\n",
       "      <td>27</td>\n",
       "      <td>0</td>\n",
       "      <td>...</td>\n",
       "      <td>0.69</td>\n",
       "      <td>25</td>\n",
       "      <td>1</td>\n",
       "      <td>1</td>\n",
       "      <td>1</td>\n",
       "      <td>171</td>\n",
       "      <td>0</td>\n",
       "      <td>0</td>\n",
       "      <td>0</td>\n",
       "      <td>0</td>\n",
       "    </tr>\n",
       "    <tr>\n",
       "      <th>71396</th>\n",
       "      <td>623304</td>\n",
       "      <td>2023</td>\n",
       "      <td>9</td>\n",
       "      <td>2</td>\n",
       "      <td>2023-09-02</td>\n",
       "      <td>10:11:00</td>\n",
       "      <td>3</td>\n",
       "      <td>LA</td>\n",
       "      <td>22</td>\n",
       "      <td>0</td>\n",
       "      <td>...</td>\n",
       "      <td>0.69</td>\n",
       "      <td>75</td>\n",
       "      <td>1</td>\n",
       "      <td>1</td>\n",
       "      <td>1</td>\n",
       "      <td>51</td>\n",
       "      <td>0</td>\n",
       "      <td>0</td>\n",
       "      <td>0</td>\n",
       "      <td>0</td>\n",
       "    </tr>\n",
       "    <tr>\n",
       "      <th>71397</th>\n",
       "      <td>623305</td>\n",
       "      <td>2023</td>\n",
       "      <td>9</td>\n",
       "      <td>9</td>\n",
       "      <td>2023-09-09</td>\n",
       "      <td>15:30:00</td>\n",
       "      <td>3</td>\n",
       "      <td>AZ</td>\n",
       "      <td>4</td>\n",
       "      <td>0</td>\n",
       "      <td>...</td>\n",
       "      <td>0.10</td>\n",
       "      <td>10</td>\n",
       "      <td>1</td>\n",
       "      <td>1</td>\n",
       "      <td>1</td>\n",
       "      <td>25</td>\n",
       "      <td>0</td>\n",
       "      <td>0</td>\n",
       "      <td>0</td>\n",
       "      <td>0</td>\n",
       "    </tr>\n",
       "  </tbody>\n",
       "</table>\n",
       "<p>71398 rows × 29 columns</p>\n",
       "</div>"
      ],
      "text/plain": [
       "           om    yr  mo  dy        date      time  tz  st  stf  stn  ...  \\\n",
       "0         192  1950  10   1  1950-10-01  21:00:00   3  OK   40   23  ...   \n",
       "1         193  1950  10   9  1950-10-09  02:15:00   3  NC   37    9  ...   \n",
       "2         195  1950  11  20  1950-11-20  02:20:00   3  KY   21    1  ...   \n",
       "3         196  1950  11  20  1950-11-20  04:00:00   3  KY   21    2  ...   \n",
       "4         197  1950  11  20  1950-11-20  07:30:00   3  MS   28   14  ...   \n",
       "...       ...   ...  ..  ..         ...       ...  ..  ..  ...  ...  ...   \n",
       "71393  623328  2023   9  26  2023-09-26  15:05:00   3  FL   12    0  ...   \n",
       "71394  623329  2023   9  28  2023-09-28  13:40:00   3  OH   39    0  ...   \n",
       "71395  623330  2023   9  29  2023-09-29  18:48:00   3  MN   27    0  ...   \n",
       "71396  623304  2023   9   2  2023-09-02  10:11:00   3  LA   22    0  ...   \n",
       "71397  623305  2023   9   9  2023-09-09  15:30:00   3  AZ    4    0  ...   \n",
       "\n",
       "         len  wid  ns  sn  sg   f1  f2  f3  f4  fc  \n",
       "0      15.80   10   1   1   1   25   0   0   0   0  \n",
       "1       2.00  880   1   1   1   47   0   0   0   0  \n",
       "2       0.10   10   1   1   1  177   0   0   0   0  \n",
       "3       0.10   10   1   1   1  209   0   0   0   0  \n",
       "4       2.00   37   1   1   1  101   0   0   0   0  \n",
       "...      ...  ...  ..  ..  ..  ...  ..  ..  ..  ..  \n",
       "71393   0.01    5   1   1   1   19   0   0   0   0  \n",
       "71394   0.01   25   1   1   1   97   0   0   0   0  \n",
       "71395   0.69   25   1   1   1  171   0   0   0   0  \n",
       "71396   0.69   75   1   1   1   51   0   0   0   0  \n",
       "71397   0.10   10   1   1   1   25   0   0   0   0  \n",
       "\n",
       "[71398 rows x 29 columns]"
      ]
     },
     "execution_count": 5,
     "metadata": {},
     "output_type": "execute_result"
    }
   ],
   "source": [
    "#importing the dataset and storing it in a variable df\n",
    "df"
   ]
  },
  {
   "cell_type": "code",
   "execution_count": 6,
   "id": "e6960570-fd84-4d05-9e28-95e7e84b10ac",
   "metadata": {},
   "outputs": [
    {
     "data": {
      "text/plain": [
       "623401"
      ]
     },
     "execution_count": 6,
     "metadata": {},
     "output_type": "execute_result"
    }
   ],
   "source": [
    "# \"om\" tells us count of tornado during the year. what is the maximum no of tornado in the column \"om\"?\n",
    "max(df['om'])"
   ]
  },
  {
   "cell_type": "markdown",
   "id": "51005c3a-79f6-4c39-902e-459b5882e023",
   "metadata": {},
   "source": [
    "623401 is a really large number. It says us that 1707 tornadoes has affected in a day in that year. If we consider in a hour, it is around 71 tornadoes. This is highly unlikely."
   ]
  },
  {
   "cell_type": "markdown",
   "id": "095c0981-fc4d-421a-a1d0-d55fb0b4a68b",
   "metadata": {},
   "source": []
  },
  {
   "cell_type": "code",
   "execution_count": 111,
   "id": "b56e72cc-3979-4f70-a051-dc62dc6b7241",
   "metadata": {},
   "outputs": [
    {
     "data": {
      "text/html": [
       "<div>\n",
       "<style scoped>\n",
       "    .dataframe tbody tr th:only-of-type {\n",
       "        vertical-align: middle;\n",
       "    }\n",
       "\n",
       "    .dataframe tbody tr th {\n",
       "        vertical-align: top;\n",
       "    }\n",
       "\n",
       "    .dataframe thead th {\n",
       "        text-align: right;\n",
       "    }\n",
       "</style>\n",
       "<table border=\"1\" class=\"dataframe\">\n",
       "  <thead>\n",
       "    <tr style=\"text-align: right;\">\n",
       "      <th></th>\n",
       "      <th>yr</th>\n",
       "      <th>om</th>\n",
       "    </tr>\n",
       "  </thead>\n",
       "  <tbody>\n",
       "    <tr>\n",
       "      <th>0</th>\n",
       "      <td>1950</td>\n",
       "      <td>20410</td>\n",
       "    </tr>\n",
       "    <tr>\n",
       "      <th>1</th>\n",
       "      <td>1951</td>\n",
       "      <td>33938</td>\n",
       "    </tr>\n",
       "    <tr>\n",
       "      <th>2</th>\n",
       "      <td>1952</td>\n",
       "      <td>29960</td>\n",
       "    </tr>\n",
       "    <tr>\n",
       "      <th>3</th>\n",
       "      <td>1953</td>\n",
       "      <td>92246</td>\n",
       "    </tr>\n",
       "    <tr>\n",
       "      <th>4</th>\n",
       "      <td>1954</td>\n",
       "      <td>156504</td>\n",
       "    </tr>\n",
       "  </tbody>\n",
       "</table>\n",
       "</div>"
      ],
      "text/plain": [
       "     yr      om\n",
       "0  1950   20410\n",
       "1  1951   33938\n",
       "2  1952   29960\n",
       "3  1953   92246\n",
       "4  1954  156504"
      ]
     },
     "execution_count": 111,
     "metadata": {},
     "output_type": "execute_result"
    }
   ],
   "source": [
    "df[['om', 'yr']].groupby('yr').sum().reset_index().head()"
   ]
  },
  {
   "cell_type": "markdown",
   "id": "7419453e-4ce1-46bc-bf30-2963ec4cbe1a",
   "metadata": {},
   "source": [
    "Below I am considering each row as an tornado entry and counting how many entries are there for each year using groupby function."
   ]
  },
  {
   "cell_type": "code",
   "execution_count": 50,
   "id": "243cbe8d-8541-4cc7-a60b-9199d90bb237",
   "metadata": {},
   "outputs": [
    {
     "data": {
      "text/plain": [
       "pandas.core.frame.DataFrame"
      ]
     },
     "execution_count": 50,
     "metadata": {},
     "output_type": "execute_result"
    }
   ],
   "source": [
    "df1 = df[['om', 'yr']].groupby('yr').count().reset_index()\n",
    "type(df1)"
   ]
  },
  {
   "cell_type": "code",
   "execution_count": 114,
   "id": "82a3deda-c35a-4d8c-aa15-6adf300a47cb",
   "metadata": {},
   "outputs": [
    {
     "data": {
      "text/html": [
       "<div>\n",
       "<style scoped>\n",
       "    .dataframe tbody tr th:only-of-type {\n",
       "        vertical-align: middle;\n",
       "    }\n",
       "\n",
       "    .dataframe tbody tr th {\n",
       "        vertical-align: top;\n",
       "    }\n",
       "\n",
       "    .dataframe thead th {\n",
       "        text-align: right;\n",
       "    }\n",
       "</style>\n",
       "<table border=\"1\" class=\"dataframe\">\n",
       "  <thead>\n",
       "    <tr style=\"text-align: right;\">\n",
       "      <th></th>\n",
       "      <th>yr</th>\n",
       "      <th>om</th>\n",
       "    </tr>\n",
       "  </thead>\n",
       "  <tbody>\n",
       "    <tr>\n",
       "      <th>0</th>\n",
       "      <td>1950</td>\n",
       "      <td>206</td>\n",
       "    </tr>\n",
       "    <tr>\n",
       "      <th>1</th>\n",
       "      <td>1951</td>\n",
       "      <td>261</td>\n",
       "    </tr>\n",
       "    <tr>\n",
       "      <th>2</th>\n",
       "      <td>1952</td>\n",
       "      <td>246</td>\n",
       "    </tr>\n",
       "    <tr>\n",
       "      <th>3</th>\n",
       "      <td>1953</td>\n",
       "      <td>442</td>\n",
       "    </tr>\n",
       "    <tr>\n",
       "      <th>4</th>\n",
       "      <td>1954</td>\n",
       "      <td>570</td>\n",
       "    </tr>\n",
       "  </tbody>\n",
       "</table>\n",
       "</div>"
      ],
      "text/plain": [
       "     yr   om\n",
       "0  1950  206\n",
       "1  1951  261\n",
       "2  1952  246\n",
       "3  1953  442\n",
       "4  1954  570"
      ]
     },
     "execution_count": 114,
     "metadata": {},
     "output_type": "execute_result"
    }
   ],
   "source": [
    "df1.head()"
   ]
  },
  {
   "cell_type": "markdown",
   "id": "5fcf65c4-6174-4104-a012-d09f3f3d9881",
   "metadata": {},
   "source": [
    "This is far better than the previous result, as it says 1950 has 206 tornado occurences."
   ]
  },
  {
   "cell_type": "code",
   "execution_count": 115,
   "id": "d2b82583-c7f7-43d1-830f-7b7e625359de",
   "metadata": {},
   "outputs": [
    {
     "data": {
      "text/plain": [
       "<Axes: xlabel='yr', ylabel='om'>"
      ]
     },
     "execution_count": 115,
     "metadata": {},
     "output_type": "execute_result"
    },
    {
     "data": {
      "image/png": "[encoded data removed]",
      "text/plain": [
       "<Figure size 640x480 with 1 Axes>"
      ]
     },
     "metadata": {},
     "output_type": "display_data"
    }
   ],
   "source": [
    "#No of tornadoes affected in each year from 1950 to 2023\n",
    "sns.lineplot(data = df1, x = 'yr', y = 'om')"
   ]
  },
  {
   "cell_type": "code",
   "execution_count": 116,
   "id": "18587fe7-287a-4195-9ed8-9c309e26d1ae",
   "metadata": {},
   "outputs": [
    {
     "data": {
      "text/plain": [
       "<Axes: xlabel='yr', ylabel='om'>"
      ]
     },
     "execution_count": 116,
     "metadata": {},
     "output_type": "execute_result"
    },
    {
     "data": {
      "image/png": "[encoded data removed]",
      "text/plain": [
       "<Figure size 640x480 with 1 Axes>"
      ]
     },
     "metadata": {},
     "output_type": "display_data"
    }
   ],
   "source": [
    "#No of tornadoes affected in each year from 2007 to 2023\n",
    "sns.lineplot(data = df1[df1['yr'] > 2007], x = 'yr', y = 'om')"
   ]
  },
  {
   "cell_type": "code",
   "execution_count": null,
   "id": "4e4daa96-fa60-4459-b7c7-aa084a4787cc",
   "metadata": {},
   "outputs": [],
   "source": []
  },
  {
   "cell_type": "code",
   "execution_count": 103,
   "id": "1e759168-de0b-4098-a814-54aa2df1806d",
   "metadata": {},
   "outputs": [
    {
     "data": {
      "text/plain": [
       "array([3, 0, 6, 9])"
      ]
     },
     "execution_count": 103,
     "metadata": {},
     "output_type": "execute_result"
    }
   ],
   "source": [
    "#lets see how many unique time zones are there in the column 'tz' (tz is time zone as mentioned in description)\n",
    "df['tz'].unique()"
   ]
  },
  {
   "cell_type": "code",
   "execution_count": 104,
   "id": "9b55e3ed-169a-4c25-b6d5-8f7b444d6e70",
   "metadata": {},
   "outputs": [
    {
     "data": {
      "text/plain": [
       "array(['OK', 'NC', 'KY', 'MS', 'PA', 'IL', 'AR', 'MO', 'TX', 'OH', 'LA',\n",
       "       'TN', 'FL', 'AL', 'SC', 'KS', 'WY', 'NE', 'GA', 'IA', 'SD', 'ND',\n",
       "       'MN', 'WI', 'NM', 'CT', 'IN', 'CO', 'MD', 'WV', 'VA', 'MA', 'OR',\n",
       "       'CA', 'NJ', 'MI', 'NH', 'AZ', 'NY', 'MT', 'VT', 'UT', 'ME', 'ID',\n",
       "       'WA', 'DE', 'HI', 'AK', 'PR', 'NV', 'RI', 'DC', 'VI'], dtype=object)"
      ]
     },
     "execution_count": 104,
     "metadata": {},
     "output_type": "execute_result"
    }
   ],
   "source": [
    "#getting all states under the time zome 3\n",
    "df[(df['tz'] == 3)]['st'].unique()"
   ]
  },
  {
   "cell_type": "code",
   "execution_count": 7,
   "id": "85375ef1-fcac-4ae8-8106-f01908d2f87f",
   "metadata": {},
   "outputs": [
    {
     "data": {
      "text/plain": [
       "array(['MA', 'OK', 'IN', 'TX', 'IL', 'SD'], dtype=object)"
      ]
     },
     "execution_count": 7,
     "metadata": {},
     "output_type": "execute_result"
    }
   ],
   "source": [
    "#getting all states under the time zome 0\n",
    "df[(df['tz'] == 0)]['st'].unique()"
   ]
  },
  {
   "cell_type": "code",
   "execution_count": 8,
   "id": "14420c82-6e52-4753-a796-1da37a1801df",
   "metadata": {},
   "outputs": [
    {
     "data": {
      "text/plain": [
       "array(['OK', 'NC', 'KY', 'MS', 'PA', 'IL', 'AR', 'MO', 'TX', 'OH', 'LA',\n",
       "       'TN', 'FL', 'AL', 'SC', 'KS', 'WY', 'NE', 'GA', 'IA', 'SD', 'ND',\n",
       "       'MN', 'WI', 'NM', 'CT', 'IN', 'CO', 'MD', 'WV', 'VA', 'MA', 'OR',\n",
       "       'CA', 'NJ', 'MI', 'NH', 'AZ', 'NY', 'MT', 'VT', 'UT', 'ME', 'ID',\n",
       "       'WA', 'DE', 'HI', 'AK', 'PR', 'NV', 'RI', 'DC', 'VI'], dtype=object)"
      ]
     },
     "execution_count": 8,
     "metadata": {},
     "output_type": "execute_result"
    }
   ],
   "source": [
    "df[(df['tz'] == 3)]['st'].unique()"
   ]
  },
  {
   "cell_type": "code",
   "execution_count": 9,
   "id": "acf195ba-9fe9-4bcb-85e1-94100169fabd",
   "metadata": {},
   "outputs": [
    {
     "data": {
      "text/plain": [
       "array(['SD', 'NM', 'MT', 'WY'], dtype=object)"
      ]
     },
     "execution_count": 9,
     "metadata": {},
     "output_type": "execute_result"
    }
   ],
   "source": [
    "#getting all states under the time zome 6\n",
    "df[(df['tz'] == 6)]['st'].unique()"
   ]
  },
  {
   "cell_type": "code",
   "execution_count": 10,
   "id": "2af6b2ea-7c09-4918-ac61-2684d675a5ac",
   "metadata": {},
   "outputs": [
    {
     "data": {
      "text/plain": [
       "array(['LA'], dtype=object)"
      ]
     },
     "execution_count": 10,
     "metadata": {},
     "output_type": "execute_result"
    }
   ],
   "source": [
    "#getting all states under the time zome 9\n",
    "df[(df['tz'] == 9)]['st'].unique()"
   ]
  },
  {
   "cell_type": "markdown",
   "id": "39e8e1b7-207c-4a46-868a-99476e5ffa03",
   "metadata": {},
   "source": [
    "The documentation only mentioned about the time zones 9(GST) and 3(CST). By getting the above States of each time zone, it is clear that, all the states in the time zone 0 and 6 is already present in the time zone 3.\n",
    "<br>\n",
    "<br>\n",
    "So, we can replace the time zones 0 and 6 with 3."
   ]
  },
  {
   "cell_type": "code",
   "execution_count": 34,
   "id": "2c6b5c22-0509-4163-9417-427ff69a8e80",
   "metadata": {},
   "outputs": [
    {
     "data": {
      "text/plain": [
       "mag\n",
       "-9.0     1031\n",
       " 0.0    32451\n",
       " 1.0    24166\n",
       " 2.0    10085\n",
       " 3.0     2839\n",
       " 4.0      739\n",
       " 5.0       88\n",
       "Name: count, dtype: int64"
      ]
     },
     "execution_count": 34,
     "metadata": {},
     "output_type": "execute_result"
    }
   ],
   "source": [
    "# Finds how many times -9, or undetermined/unknown, is present\n",
    "df_mag = df[['mag']].groupby('mag')\n",
    "df_mag.value_counts()"
   ]
  },
  {
   "cell_type": "markdown",
   "id": "51201034-2209-4282-8e0f-a06b237d66a9",
   "metadata": {},
   "source": [
    "0-5 is recorded, -9 is for when the magnitude is unknown.  Only a minority of rows don't have a value"
   ]
  },
  {
   "cell_type": "code",
   "execution_count": 74,
   "id": "cac61151-2774-4e1a-838d-b444babe9508",
   "metadata": {},
   "outputs": [
    {
     "data": {
      "text/plain": [
       "pandas.core.groupby.generic.DataFrameGroupBy"
      ]
     },
     "execution_count": 74,
     "metadata": {},
     "output_type": "execute_result"
    }
   ],
   "source": [
    "type(df_mag)"
   ]
  },
  {
   "cell_type": "code",
   "execution_count": 55,
   "id": "4ab190cc-07ab-464c-ad62-8a9424b3aa3b",
   "metadata": {},
   "outputs": [],
   "source": [
    "df_d = df[['yr','loss']]\n",
    "\n",
    "row_d = []\n",
    "for x in range(df_d.shape[0]):\n",
    "    loss = df_d['loss'][x]\n",
    "    if(loss == 0):\n",
    "        row_d.append(None)\n",
    "    elif(df_d['yr'][x] < 1996):\n",
    "        row_d.append(loss)\n",
    "    else:\n",
    "        if(loss < 50):\n",
    "            row_d.append(1)\n",
    "        elif(loss < 500):\n",
    "            row_d.append(2)\n",
    "        elif(loss < 5000):\n",
    "            row_d.append(3)\n",
    "        elif(loss < 50000):\n",
    "            row_d.append(4)\n",
    "        elif(loss < 500000):\n",
    "            row_d.append(5)\n",
    "        elif(loss < 5000000):\n",
    "            row_d.append(6)\n",
    "        elif(loss < 50000000):\n",
    "            row_d.append(7)\n",
    "        elif(loss < 500000000):\n",
    "            row_d.append(8)\n",
    "        else:\n",
    "            row_d.append(9)"
   ]
  },
  {
   "cell_type": "code",
   "execution_count": 58,
   "id": "bccd4f75-f2ab-4651-b930-a9384c6afc0f",
   "metadata": {},
   "outputs": [
    {
     "data": {
      "text/html": [
       "<div>\n",
       "<style scoped>\n",
       "    .dataframe tbody tr th:only-of-type {\n",
       "        vertical-align: middle;\n",
       "    }\n",
       "\n",
       "    .dataframe tbody tr th {\n",
       "        vertical-align: top;\n",
       "    }\n",
       "\n",
       "    .dataframe thead th {\n",
       "        text-align: right;\n",
       "    }\n",
       "</style>\n",
       "<table border=\"1\" class=\"dataframe\">\n",
       "  <thead>\n",
       "    <tr style=\"text-align: right;\">\n",
       "      <th></th>\n",
       "      <th>damage</th>\n",
       "      <th>loss</th>\n",
       "    </tr>\n",
       "  </thead>\n",
       "  <tbody>\n",
       "    <tr>\n",
       "      <th>0</th>\n",
       "      <td>4.0</td>\n",
       "      <td>4.0</td>\n",
       "    </tr>\n",
       "    <tr>\n",
       "      <th>1</th>\n",
       "      <td>5.0</td>\n",
       "      <td>5.0</td>\n",
       "    </tr>\n",
       "    <tr>\n",
       "      <th>2</th>\n",
       "      <td>5.0</td>\n",
       "      <td>5.0</td>\n",
       "    </tr>\n",
       "    <tr>\n",
       "      <th>3</th>\n",
       "      <td>5.0</td>\n",
       "      <td>5.0</td>\n",
       "    </tr>\n",
       "    <tr>\n",
       "      <th>4</th>\n",
       "      <td>4.0</td>\n",
       "      <td>4.0</td>\n",
       "    </tr>\n",
       "    <tr>\n",
       "      <th>...</th>\n",
       "      <td>...</td>\n",
       "      <td>...</td>\n",
       "    </tr>\n",
       "    <tr>\n",
       "      <th>71393</th>\n",
       "      <td>NaN</td>\n",
       "      <td>0.0</td>\n",
       "    </tr>\n",
       "    <tr>\n",
       "      <th>71394</th>\n",
       "      <td>3.0</td>\n",
       "      <td>1000.0</td>\n",
       "    </tr>\n",
       "    <tr>\n",
       "      <th>71395</th>\n",
       "      <td>NaN</td>\n",
       "      <td>0.0</td>\n",
       "    </tr>\n",
       "    <tr>\n",
       "      <th>71396</th>\n",
       "      <td>4.0</td>\n",
       "      <td>21500.0</td>\n",
       "    </tr>\n",
       "    <tr>\n",
       "      <th>71397</th>\n",
       "      <td>NaN</td>\n",
       "      <td>0.0</td>\n",
       "    </tr>\n",
       "  </tbody>\n",
       "</table>\n",
       "<p>71398 rows × 2 columns</p>\n",
       "</div>"
      ],
      "text/plain": [
       "       damage     loss\n",
       "0         4.0      4.0\n",
       "1         5.0      5.0\n",
       "2         5.0      5.0\n",
       "3         5.0      5.0\n",
       "4         4.0      4.0\n",
       "...       ...      ...\n",
       "71393     NaN      0.0\n",
       "71394     3.0   1000.0\n",
       "71395     NaN      0.0\n",
       "71396     4.0  21500.0\n",
       "71397     NaN      0.0\n",
       "\n",
       "[71398 rows x 2 columns]"
      ]
     },
     "execution_count": 58,
     "metadata": {},
     "output_type": "execute_result"
    }
   ],
   "source": [
    "df.insert(14,\"damage\", row_d)\n",
    "df[['damage', 'loss']]"
   ]
  },
  {
   "cell_type": "markdown",
   "id": "7463046a-a6d9-464c-9635-1f92b690168c",
   "metadata": {},
   "source": [
    "This converts all damages back to the standard used before 1996.  This might be valuable if we want to compare data used before that year."
   ]
  },
  {
   "cell_type": "code",
   "execution_count": 59,
   "id": "4149a7bc-8e87-49bf-a9c5-3c37aa7667ac",
   "metadata": {},
   "outputs": [],
   "source": [
    "df_d = df[['damage', 'yr']].groupby('yr').mean().reset_index()"
   ]
  },
  {
   "cell_type": "code",
   "execution_count": 60,
   "id": "6350c3df-fab6-47b0-a5ec-b82ad8e1bceb",
   "metadata": {},
   "outputs": [
    {
     "data": {
      "text/plain": [
       "<Axes: xlabel='yr', ylabel='damage'>"
      ]
     },
     "execution_count": 60,
     "metadata": {},
     "output_type": "execute_result"
    },
    {
     "data": {
      "image/png": "[encoded data removed]",
      "text/plain": [
       "<Figure size 640x480 with 1 Axes>"
      ]
     },
     "metadata": {},
     "output_type": "display_data"
    }
   ],
   "source": [
    "sns.lineplot(data = df_d, x = 'yr', y = 'damage')"
   ]
  },
  {
   "cell_type": "markdown",
   "id": "05d14f21-21d2-4466-930e-2b8df266f5e1",
   "metadata": {},
   "source": [
    "It appears after 1996, numbers were reported in millions... but this changed in 2016 to full dollar amount..."
   ]
  },
  {
   "cell_type": "code",
   "execution_count": 64,
   "id": "1d7f2720-6c5e-4477-8e0a-5857b78d3a16",
   "metadata": {},
   "outputs": [
    {
     "data": {
      "text/html": [
       "<div>\n",
       "<style scoped>\n",
       "    .dataframe tbody tr th:only-of-type {\n",
       "        vertical-align: middle;\n",
       "    }\n",
       "\n",
       "    .dataframe tbody tr th {\n",
       "        vertical-align: top;\n",
       "    }\n",
       "\n",
       "    .dataframe thead th {\n",
       "        text-align: right;\n",
       "    }\n",
       "</style>\n",
       "<table border=\"1\" class=\"dataframe\">\n",
       "  <thead>\n",
       "    <tr style=\"text-align: right;\">\n",
       "      <th></th>\n",
       "      <th>om</th>\n",
       "      <th>yr</th>\n",
       "      <th>mo</th>\n",
       "      <th>dy</th>\n",
       "      <th>date</th>\n",
       "      <th>time</th>\n",
       "      <th>tz</th>\n",
       "      <th>st</th>\n",
       "      <th>stf</th>\n",
       "      <th>stn</th>\n",
       "      <th>...</th>\n",
       "      <th>len</th>\n",
       "      <th>wid</th>\n",
       "      <th>ns</th>\n",
       "      <th>sn</th>\n",
       "      <th>sg</th>\n",
       "      <th>f1</th>\n",
       "      <th>f2</th>\n",
       "      <th>f3</th>\n",
       "      <th>f4</th>\n",
       "      <th>fc</th>\n",
       "    </tr>\n",
       "  </thead>\n",
       "  <tbody>\n",
       "    <tr>\n",
       "      <th>0</th>\n",
       "      <td>192</td>\n",
       "      <td>1950</td>\n",
       "      <td>10</td>\n",
       "      <td>1</td>\n",
       "      <td>1950-10-01</td>\n",
       "      <td>21:00:00</td>\n",
       "      <td>3</td>\n",
       "      <td>OK</td>\n",
       "      <td>40</td>\n",
       "      <td>23</td>\n",
       "      <td>...</td>\n",
       "      <td>15.80</td>\n",
       "      <td>10</td>\n",
       "      <td>1</td>\n",
       "      <td>1</td>\n",
       "      <td>1</td>\n",
       "      <td>25</td>\n",
       "      <td>0</td>\n",
       "      <td>0</td>\n",
       "      <td>0</td>\n",
       "      <td>0</td>\n",
       "    </tr>\n",
       "    <tr>\n",
       "      <th>1</th>\n",
       "      <td>193</td>\n",
       "      <td>1950</td>\n",
       "      <td>10</td>\n",
       "      <td>9</td>\n",
       "      <td>1950-10-09</td>\n",
       "      <td>02:15:00</td>\n",
       "      <td>3</td>\n",
       "      <td>NC</td>\n",
       "      <td>37</td>\n",
       "      <td>9</td>\n",
       "      <td>...</td>\n",
       "      <td>2.00</td>\n",
       "      <td>880</td>\n",
       "      <td>1</td>\n",
       "      <td>1</td>\n",
       "      <td>1</td>\n",
       "      <td>47</td>\n",
       "      <td>0</td>\n",
       "      <td>0</td>\n",
       "      <td>0</td>\n",
       "      <td>0</td>\n",
       "    </tr>\n",
       "    <tr>\n",
       "      <th>2</th>\n",
       "      <td>195</td>\n",
       "      <td>1950</td>\n",
       "      <td>11</td>\n",
       "      <td>20</td>\n",
       "      <td>1950-11-20</td>\n",
       "      <td>02:20:00</td>\n",
       "      <td>3</td>\n",
       "      <td>KY</td>\n",
       "      <td>21</td>\n",
       "      <td>1</td>\n",
       "      <td>...</td>\n",
       "      <td>0.10</td>\n",
       "      <td>10</td>\n",
       "      <td>1</td>\n",
       "      <td>1</td>\n",
       "      <td>1</td>\n",
       "      <td>177</td>\n",
       "      <td>0</td>\n",
       "      <td>0</td>\n",
       "      <td>0</td>\n",
       "      <td>0</td>\n",
       "    </tr>\n",
       "    <tr>\n",
       "      <th>3</th>\n",
       "      <td>196</td>\n",
       "      <td>1950</td>\n",
       "      <td>11</td>\n",
       "      <td>20</td>\n",
       "      <td>1950-11-20</td>\n",
       "      <td>04:00:00</td>\n",
       "      <td>3</td>\n",
       "      <td>KY</td>\n",
       "      <td>21</td>\n",
       "      <td>2</td>\n",
       "      <td>...</td>\n",
       "      <td>0.10</td>\n",
       "      <td>10</td>\n",
       "      <td>1</td>\n",
       "      <td>1</td>\n",
       "      <td>1</td>\n",
       "      <td>209</td>\n",
       "      <td>0</td>\n",
       "      <td>0</td>\n",
       "      <td>0</td>\n",
       "      <td>0</td>\n",
       "    </tr>\n",
       "    <tr>\n",
       "      <th>4</th>\n",
       "      <td>197</td>\n",
       "      <td>1950</td>\n",
       "      <td>11</td>\n",
       "      <td>20</td>\n",
       "      <td>1950-11-20</td>\n",
       "      <td>07:30:00</td>\n",
       "      <td>3</td>\n",
       "      <td>MS</td>\n",
       "      <td>28</td>\n",
       "      <td>14</td>\n",
       "      <td>...</td>\n",
       "      <td>2.00</td>\n",
       "      <td>37</td>\n",
       "      <td>1</td>\n",
       "      <td>1</td>\n",
       "      <td>1</td>\n",
       "      <td>101</td>\n",
       "      <td>0</td>\n",
       "      <td>0</td>\n",
       "      <td>0</td>\n",
       "      <td>0</td>\n",
       "    </tr>\n",
       "    <tr>\n",
       "      <th>...</th>\n",
       "      <td>...</td>\n",
       "      <td>...</td>\n",
       "      <td>...</td>\n",
       "      <td>...</td>\n",
       "      <td>...</td>\n",
       "      <td>...</td>\n",
       "      <td>...</td>\n",
       "      <td>...</td>\n",
       "      <td>...</td>\n",
       "      <td>...</td>\n",
       "      <td>...</td>\n",
       "      <td>...</td>\n",
       "      <td>...</td>\n",
       "      <td>...</td>\n",
       "      <td>...</td>\n",
       "      <td>...</td>\n",
       "      <td>...</td>\n",
       "      <td>...</td>\n",
       "      <td>...</td>\n",
       "      <td>...</td>\n",
       "      <td>...</td>\n",
       "    </tr>\n",
       "    <tr>\n",
       "      <th>71393</th>\n",
       "      <td>623328</td>\n",
       "      <td>2023</td>\n",
       "      <td>9</td>\n",
       "      <td>26</td>\n",
       "      <td>2023-09-26</td>\n",
       "      <td>15:05:00</td>\n",
       "      <td>3</td>\n",
       "      <td>FL</td>\n",
       "      <td>12</td>\n",
       "      <td>0</td>\n",
       "      <td>...</td>\n",
       "      <td>0.01</td>\n",
       "      <td>5</td>\n",
       "      <td>1</td>\n",
       "      <td>1</td>\n",
       "      <td>1</td>\n",
       "      <td>19</td>\n",
       "      <td>0</td>\n",
       "      <td>0</td>\n",
       "      <td>0</td>\n",
       "      <td>0</td>\n",
       "    </tr>\n",
       "    <tr>\n",
       "      <th>71394</th>\n",
       "      <td>623329</td>\n",
       "      <td>2023</td>\n",
       "      <td>9</td>\n",
       "      <td>28</td>\n",
       "      <td>2023-09-28</td>\n",
       "      <td>13:40:00</td>\n",
       "      <td>3</td>\n",
       "      <td>OH</td>\n",
       "      <td>39</td>\n",
       "      <td>0</td>\n",
       "      <td>...</td>\n",
       "      <td>0.01</td>\n",
       "      <td>25</td>\n",
       "      <td>1</td>\n",
       "      <td>1</td>\n",
       "      <td>1</td>\n",
       "      <td>97</td>\n",
       "      <td>0</td>\n",
       "      <td>0</td>\n",
       "      <td>0</td>\n",
       "      <td>0</td>\n",
       "    </tr>\n",
       "    <tr>\n",
       "      <th>71395</th>\n",
       "      <td>623330</td>\n",
       "      <td>2023</td>\n",
       "      <td>9</td>\n",
       "      <td>29</td>\n",
       "      <td>2023-09-29</td>\n",
       "      <td>18:48:00</td>\n",
       "      <td>3</td>\n",
       "      <td>MN</td>\n",
       "      <td>27</td>\n",
       "      <td>0</td>\n",
       "      <td>...</td>\n",
       "      <td>0.69</td>\n",
       "      <td>25</td>\n",
       "      <td>1</td>\n",
       "      <td>1</td>\n",
       "      <td>1</td>\n",
       "      <td>171</td>\n",
       "      <td>0</td>\n",
       "      <td>0</td>\n",
       "      <td>0</td>\n",
       "      <td>0</td>\n",
       "    </tr>\n",
       "    <tr>\n",
       "      <th>71396</th>\n",
       "      <td>623304</td>\n",
       "      <td>2023</td>\n",
       "      <td>9</td>\n",
       "      <td>2</td>\n",
       "      <td>2023-09-02</td>\n",
       "      <td>10:11:00</td>\n",
       "      <td>3</td>\n",
       "      <td>LA</td>\n",
       "      <td>22</td>\n",
       "      <td>0</td>\n",
       "      <td>...</td>\n",
       "      <td>0.69</td>\n",
       "      <td>75</td>\n",
       "      <td>1</td>\n",
       "      <td>1</td>\n",
       "      <td>1</td>\n",
       "      <td>51</td>\n",
       "      <td>0</td>\n",
       "      <td>0</td>\n",
       "      <td>0</td>\n",
       "      <td>0</td>\n",
       "    </tr>\n",
       "    <tr>\n",
       "      <th>71397</th>\n",
       "      <td>623305</td>\n",
       "      <td>2023</td>\n",
       "      <td>9</td>\n",
       "      <td>9</td>\n",
       "      <td>2023-09-09</td>\n",
       "      <td>15:30:00</td>\n",
       "      <td>3</td>\n",
       "      <td>AZ</td>\n",
       "      <td>4</td>\n",
       "      <td>0</td>\n",
       "      <td>...</td>\n",
       "      <td>0.10</td>\n",
       "      <td>10</td>\n",
       "      <td>1</td>\n",
       "      <td>1</td>\n",
       "      <td>1</td>\n",
       "      <td>25</td>\n",
       "      <td>0</td>\n",
       "      <td>0</td>\n",
       "      <td>0</td>\n",
       "      <td>0</td>\n",
       "    </tr>\n",
       "  </tbody>\n",
       "</table>\n",
       "<p>71398 rows × 29 columns</p>\n",
       "</div>"
      ],
      "text/plain": [
       "           om    yr  mo  dy        date      time  tz  st  stf  stn  ...  \\\n",
       "0         192  1950  10   1  1950-10-01  21:00:00   3  OK   40   23  ...   \n",
       "1         193  1950  10   9  1950-10-09  02:15:00   3  NC   37    9  ...   \n",
       "2         195  1950  11  20  1950-11-20  02:20:00   3  KY   21    1  ...   \n",
       "3         196  1950  11  20  1950-11-20  04:00:00   3  KY   21    2  ...   \n",
       "4         197  1950  11  20  1950-11-20  07:30:00   3  MS   28   14  ...   \n",
       "...       ...   ...  ..  ..         ...       ...  ..  ..  ...  ...  ...   \n",
       "71393  623328  2023   9  26  2023-09-26  15:05:00   3  FL   12    0  ...   \n",
       "71394  623329  2023   9  28  2023-09-28  13:40:00   3  OH   39    0  ...   \n",
       "71395  623330  2023   9  29  2023-09-29  18:48:00   3  MN   27    0  ...   \n",
       "71396  623304  2023   9   2  2023-09-02  10:11:00   3  LA   22    0  ...   \n",
       "71397  623305  2023   9   9  2023-09-09  15:30:00   3  AZ    4    0  ...   \n",
       "\n",
       "         len  wid  ns  sn  sg   f1  f2  f3  f4  fc  \n",
       "0      15.80   10   1   1   1   25   0   0   0   0  \n",
       "1       2.00  880   1   1   1   47   0   0   0   0  \n",
       "2       0.10   10   1   1   1  177   0   0   0   0  \n",
       "3       0.10   10   1   1   1  209   0   0   0   0  \n",
       "4       2.00   37   1   1   1  101   0   0   0   0  \n",
       "...      ...  ...  ..  ..  ..  ...  ..  ..  ..  ..  \n",
       "71393   0.01    5   1   1   1   19   0   0   0   0  \n",
       "71394   0.01   25   1   1   1   97   0   0   0   0  \n",
       "71395   0.69   25   1   1   1  171   0   0   0   0  \n",
       "71396   0.69   75   1   1   1   51   0   0   0   0  \n",
       "71397   0.10   10   1   1   1   25   0   0   0   0  \n",
       "\n",
       "[71398 rows x 29 columns]"
      ]
     },
     "execution_count": 64,
     "metadata": {},
     "output_type": "execute_result"
    }
   ],
   "source": [
    "df.drop(['damage'], axis=1)"
   ]
  },
  {
   "cell_type": "code",
   "execution_count": 74,
   "id": "acf693b2-0860-4abe-9a9d-8caebafeb79d",
   "metadata": {},
   "outputs": [],
   "source": [
    "df_d = df[['yr','loss']]\n",
    "\n",
    "row_d = []\n",
    "for x in range(df_d.shape[0]):\n",
    "    loss = df_d['loss'][x]\n",
    "    #fixes problem from 1996-2015\n",
    "    if(loss == 0):\n",
    "        row_d.append(None)\n",
    "        continue\n",
    "    elif(df_d['yr'][x] < 1996):\n",
    "        row_d.append(loss)\n",
    "        continue\n",
    "    elif(df_d['yr'][x] >= 2016):\n",
    "        loss = loss #idk why the one below isn't working but it wasn't so I made this quick fix\n",
    "    elif(df_d['yr'][x] >= 1996 & df_d['yr'][x] < 2016): # could just be else but don't wanna fix what isn't broke\n",
    "        loss = loss * 1000000\n",
    "        \n",
    "    if(loss < 50):\n",
    "        row_d.append(1)\n",
    "    elif(loss < 500):\n",
    "        row_d.append(2)\n",
    "    elif(loss < 5000):\n",
    "        row_d.append(3)\n",
    "    elif(loss < 50000):\n",
    "        row_d.append(4)\n",
    "    elif(loss < 500000):\n",
    "        row_d.append(5)\n",
    "    elif(loss < 5000000):\n",
    "        row_d.append(6)\n",
    "    elif(loss < 50000000):\n",
    "        row_d.append(7)\n",
    "    elif(loss < 500000000):\n",
    "        row_d.append(8)\n",
    "    else:\n",
    "        row_d.append(9)"
   ]
  },
  {
   "cell_type": "code",
   "execution_count": 75,
   "id": "8e046753-64b3-4d64-8e66-a00a9640c4d8",
   "metadata": {},
   "outputs": [
    {
     "data": {
      "text/html": [
       "<div>\n",
       "<style scoped>\n",
       "    .dataframe tbody tr th:only-of-type {\n",
       "        vertical-align: middle;\n",
       "    }\n",
       "\n",
       "    .dataframe tbody tr th {\n",
       "        vertical-align: top;\n",
       "    }\n",
       "\n",
       "    .dataframe thead th {\n",
       "        text-align: right;\n",
       "    }\n",
       "</style>\n",
       "<table border=\"1\" class=\"dataframe\">\n",
       "  <thead>\n",
       "    <tr style=\"text-align: right;\">\n",
       "      <th></th>\n",
       "      <th>damage</th>\n",
       "      <th>loss</th>\n",
       "    </tr>\n",
       "  </thead>\n",
       "  <tbody>\n",
       "    <tr>\n",
       "      <th>0</th>\n",
       "      <td>4.0</td>\n",
       "      <td>4.0</td>\n",
       "    </tr>\n",
       "    <tr>\n",
       "      <th>1</th>\n",
       "      <td>5.0</td>\n",
       "      <td>5.0</td>\n",
       "    </tr>\n",
       "    <tr>\n",
       "      <th>2</th>\n",
       "      <td>5.0</td>\n",
       "      <td>5.0</td>\n",
       "    </tr>\n",
       "    <tr>\n",
       "      <th>3</th>\n",
       "      <td>5.0</td>\n",
       "      <td>5.0</td>\n",
       "    </tr>\n",
       "    <tr>\n",
       "      <th>4</th>\n",
       "      <td>4.0</td>\n",
       "      <td>4.0</td>\n",
       "    </tr>\n",
       "    <tr>\n",
       "      <th>...</th>\n",
       "      <td>...</td>\n",
       "      <td>...</td>\n",
       "    </tr>\n",
       "    <tr>\n",
       "      <th>71393</th>\n",
       "      <td>NaN</td>\n",
       "      <td>0.0</td>\n",
       "    </tr>\n",
       "    <tr>\n",
       "      <th>71394</th>\n",
       "      <td>3.0</td>\n",
       "      <td>1000.0</td>\n",
       "    </tr>\n",
       "    <tr>\n",
       "      <th>71395</th>\n",
       "      <td>NaN</td>\n",
       "      <td>0.0</td>\n",
       "    </tr>\n",
       "    <tr>\n",
       "      <th>71396</th>\n",
       "      <td>4.0</td>\n",
       "      <td>21500.0</td>\n",
       "    </tr>\n",
       "    <tr>\n",
       "      <th>71397</th>\n",
       "      <td>NaN</td>\n",
       "      <td>0.0</td>\n",
       "    </tr>\n",
       "  </tbody>\n",
       "</table>\n",
       "<p>71398 rows × 2 columns</p>\n",
       "</div>"
      ],
      "text/plain": [
       "       damage     loss\n",
       "0         4.0      4.0\n",
       "1         5.0      5.0\n",
       "2         5.0      5.0\n",
       "3         5.0      5.0\n",
       "4         4.0      4.0\n",
       "...       ...      ...\n",
       "71393     NaN      0.0\n",
       "71394     3.0   1000.0\n",
       "71395     NaN      0.0\n",
       "71396     4.0  21500.0\n",
       "71397     NaN      0.0\n",
       "\n",
       "[71398 rows x 2 columns]"
      ]
     },
     "execution_count": 75,
     "metadata": {},
     "output_type": "execute_result"
    }
   ],
   "source": [
    "df = pd.read_csv('1950-2023_all_tornadoes.csv') # drop wasn't working so this is duct tape\n",
    "df.insert(14,\"damage\", row_d)\n",
    "df[['damage', 'loss']]"
   ]
  },
  {
   "cell_type": "code",
   "execution_count": 76,
   "id": "08e71f5e-748b-4c97-8ed3-7481264f82e5",
   "metadata": {},
   "outputs": [
    {
     "data": {
      "text/plain": [
       "<Axes: xlabel='yr', ylabel='damage'>"
      ]
     },
     "execution_count": 76,
     "metadata": {},
     "output_type": "execute_result"
    },
    {
     "data": {
      "image/png": "[encoded data removed]",
      "text/plain": [
       "<Figure size 640x480 with 1 Axes>"
      ]
     },
     "metadata": {},
     "output_type": "display_data"
    }
   ],
   "source": [
    "df_d = df[['damage', 'yr']].groupby('yr').mean().reset_index()\n",
    "sns.lineplot(data = df_d, x = 'yr', y = 'damage')"
   ]
  },
  {
   "cell_type": "markdown",
   "id": "7f1743ce-e2eb-4447-88f7-34cd0760d930",
   "metadata": {},
   "source": [
    "Now for further analysis we should compare frequency, maybe use total values instead of mean value, and bring in other factors like tornado size or inflation benchmarks for comparison.\n",
    "This can help determine if the increase in damages are because the buildings being damaged are now more expensive, if tornados aren't getting "
   ]
  }
 ],
 "metadata": {
  "kernelspec": {
   "display_name": "envname",
   "language": "python",
   "name": "envname"
  },
  "language_info": {
   "codemirror_mode": {
    "name": "ipython",
    "version": 3
   },
   "file_extension": ".py",
   "mimetype": "text/x-python",
   "name": "python",
   "nbconvert_exporter": "python",
   "pygments_lexer": "ipython3",
   "version": "3.9.19"
  }
 },
 "nbformat": 4,
 "nbformat_minor": 5
}
