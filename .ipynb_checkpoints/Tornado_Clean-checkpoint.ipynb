{
 "cells": [
  {
   "cell_type": "code",
   "execution_count": 2,
   "id": "d1366e0f-118b-4def-a615-fb86d06ab1a6",
   "metadata": {},
   "outputs": [],
   "source": [
    "import pandas as pd\n",
    "import numpy as np\n",
    "import matplotlib.pyplot as plt\n",
    "import seaborn as sns"
   ]
  },
  {
   "cell_type": "code",
   "execution_count": 31,
   "id": "9669cb19-334e-4ed1-b0c9-54442c58a4c0",
   "metadata": {},
   "outputs": [],
   "source": [
    "df = pd.read_csv('1950-2023_all_tornadoes.csv')"
   ]
  },
  {
   "cell_type": "markdown",
   "id": "a69dffb0-da47-4c9f-8982-46e49fbfb6af",
   "metadata": {},
   "source": [
    "This can be used for all the different cleans we do"
   ]
  },
  {
   "cell_type": "code",
   "execution_count": 32,
   "id": "818675e7-54bd-468a-83bc-f962735e2aea",
   "metadata": {},
   "outputs": [
    {
     "data": {
      "text/html": [
       "<div>\n",
       "<style scoped>\n",
       "    .dataframe tbody tr th:only-of-type {\n",
       "        vertical-align: middle;\n",
       "    }\n",
       "\n",
       "    .dataframe tbody tr th {\n",
       "        vertical-align: top;\n",
       "    }\n",
       "\n",
       "    .dataframe thead th {\n",
       "        text-align: right;\n",
       "    }\n",
       "</style>\n",
       "<table border=\"1\" class=\"dataframe\">\n",
       "  <thead>\n",
       "    <tr style=\"text-align: right;\">\n",
       "      <th></th>\n",
       "      <th>damage</th>\n",
       "      <th>loss</th>\n",
       "    </tr>\n",
       "  </thead>\n",
       "  <tbody>\n",
       "    <tr>\n",
       "      <th>0</th>\n",
       "      <td>4.0</td>\n",
       "      <td>4.0</td>\n",
       "    </tr>\n",
       "    <tr>\n",
       "      <th>1</th>\n",
       "      <td>5.0</td>\n",
       "      <td>5.0</td>\n",
       "    </tr>\n",
       "    <tr>\n",
       "      <th>2</th>\n",
       "      <td>5.0</td>\n",
       "      <td>5.0</td>\n",
       "    </tr>\n",
       "    <tr>\n",
       "      <th>3</th>\n",
       "      <td>5.0</td>\n",
       "      <td>5.0</td>\n",
       "    </tr>\n",
       "    <tr>\n",
       "      <th>4</th>\n",
       "      <td>4.0</td>\n",
       "      <td>4.0</td>\n",
       "    </tr>\n",
       "    <tr>\n",
       "      <th>...</th>\n",
       "      <td>...</td>\n",
       "      <td>...</td>\n",
       "    </tr>\n",
       "    <tr>\n",
       "      <th>71393</th>\n",
       "      <td>NaN</td>\n",
       "      <td>0.0</td>\n",
       "    </tr>\n",
       "    <tr>\n",
       "      <th>71394</th>\n",
       "      <td>3.0</td>\n",
       "      <td>1000.0</td>\n",
       "    </tr>\n",
       "    <tr>\n",
       "      <th>71395</th>\n",
       "      <td>NaN</td>\n",
       "      <td>0.0</td>\n",
       "    </tr>\n",
       "    <tr>\n",
       "      <th>71396</th>\n",
       "      <td>4.0</td>\n",
       "      <td>21500.0</td>\n",
       "    </tr>\n",
       "    <tr>\n",
       "      <th>71397</th>\n",
       "      <td>NaN</td>\n",
       "      <td>0.0</td>\n",
       "    </tr>\n",
       "  </tbody>\n",
       "</table>\n",
       "<p>71398 rows × 2 columns</p>\n",
       "</div>"
      ],
      "text/plain": [
       "       damage     loss\n",
       "0         4.0      4.0\n",
       "1         5.0      5.0\n",
       "2         5.0      5.0\n",
       "3         5.0      5.0\n",
       "4         4.0      4.0\n",
       "...       ...      ...\n",
       "71393     NaN      0.0\n",
       "71394     3.0   1000.0\n",
       "71395     NaN      0.0\n",
       "71396     4.0  21500.0\n",
       "71397     NaN      0.0\n",
       "\n",
       "[71398 rows x 2 columns]"
      ]
     },
     "execution_count": 32,
     "metadata": {},
     "output_type": "execute_result"
    }
   ],
   "source": [
    "# creates new column 'damage' that converts 'loss' to comparable amounts\n",
    "# see documentation for more info.  Converts all rows to orginial range.\n",
    "# there might still be more problems, but this is a start\n",
    "\n",
    "df_d = df[['yr','loss']]\n",
    "\n",
    "row_d = []\n",
    "for x in range(df_d.shape[0]):\n",
    "    loss = df_d['loss'][x]\n",
    "    #fixes problem from 1996-2015\n",
    "    if(loss == 0):\n",
    "        row_d.append(None)\n",
    "        continue\n",
    "    elif(df_d['yr'][x] < 1996):\n",
    "        row_d.append(loss)\n",
    "        continue\n",
    "    elif(df_d['yr'][x] >= 2016):\n",
    "        loss = loss #idk why the one below isn't working but it wasn't so I made this quick fix\n",
    "    elif(df_d['yr'][x] >= 1996 & df_d['yr'][x] < 2016): # could just be else but don't wanna fix what isn't broke\n",
    "        loss = loss * 1000000\n",
    "        \n",
    "    if(loss < 50):\n",
    "        row_d.append(1)\n",
    "    elif(loss < 500):\n",
    "        row_d.append(2)\n",
    "    elif(loss < 5000):\n",
    "        row_d.append(3)\n",
    "    elif(loss < 50000):\n",
    "        row_d.append(4)\n",
    "    elif(loss < 500000):\n",
    "        row_d.append(5)\n",
    "    elif(loss < 5000000):\n",
    "        row_d.append(6)\n",
    "    elif(loss < 50000000):\n",
    "        row_d.append(7)\n",
    "    elif(loss < 500000000):\n",
    "        row_d.append(8)\n",
    "    else:\n",
    "        row_d.append(9)\n",
    "\n",
    "df = pd.read_csv('1950-2023_all_tornadoes.csv') # drop wasn't working so this is duct tape\n",
    "df.insert(14,\"damage\", row_d)\n",
    "df[['damage', 'loss']]"
   ]
  },
  {
   "cell_type": "markdown",
   "id": "2789df2f-308c-49e3-a1b5-eec90c7ebd35",
   "metadata": {},
   "source": [
    "Figuring out what's wrong with Puerto Rico.  Documentation says some of \n",
    "Puerto Rico's STF codes are incorrect."
   ]
  },
  {
   "cell_type": "code",
   "execution_count": 5,
   "id": "9a13166d-1bd9-465d-bc8c-ced50443d9e0",
   "metadata": {},
   "outputs": [],
   "source": [
    "df_pr = df[['st', 'stf']]"
   ]
  },
  {
   "cell_type": "code",
   "execution_count": 13,
   "id": "22b8419c-bded-44a0-84fe-0294fc192cb4",
   "metadata": {},
   "outputs": [
    {
     "data": {
      "text/plain": [
       "array([72])"
      ]
     },
     "execution_count": 13,
     "metadata": {},
     "output_type": "execute_result"
    }
   ],
   "source": [
    "# finds unique values for Puerto Rico's STF numbers\n",
    "df_pr = df_pr[df_pr['st'] == 'PR']\n",
    "df_pr['stf'].unique()"
   ]
  },
  {
   "cell_type": "raw",
   "id": "933b9dc1-0e5c-4ebb-9f52-bfc08481006c",
   "metadata": {},
   "source": [
    "No cleaning is needed. Not sure why documentation says some are incorrect.\n",
    "Perhaps this was an issue that has been fixed since documention was updated?"
   ]
  },
  {
   "cell_type": "markdown",
   "id": "1964be7f-8725-43ae-b719-732d4be91505",
   "metadata": {},
   "source": [
    "Magnitude is shown on scale 0-5. -9 means value is unknown.\n",
    "We're going to create a column 'no_mag' which will be 1 if magnitude is\n",
    "unknown, and 0 if it is known.\n",
    "Then we will replace all -9 entries in 'mag' with NA"
   ]
  },
  {
   "cell_type": "code",
   "execution_count": 14,
   "id": "6293b26f-52e5-4a4d-9e21-fa01e5e843a6",
   "metadata": {},
   "outputs": [
    {
     "data": {
      "text/plain": [
       "array([ 1,  3,  2,  4,  0,  5, -9])"
      ]
     },
     "execution_count": 14,
     "metadata": {},
     "output_type": "execute_result"
    }
   ],
   "source": [
    "df['mag'].unique()"
   ]
  },
  {
   "cell_type": "code",
   "execution_count": 33,
   "id": "0995dfa4-73d4-4b31-ab57-ac6a198f6de5",
   "metadata": {},
   "outputs": [],
   "source": [
    "mag = []\n",
    "for x in range(df.shape[0]):\n",
    "    if (df['mag'][x] == -9):\n",
    "        mag.append(1)\n",
    "    else:\n",
    "        mag.append(0)\n",
    "    \n",
    "df.insert(10,\"no_mag\", mag)"
   ]
  },
  {
   "cell_type": "code",
   "execution_count": 34,
   "id": "14d9bc4a-1b1e-4a54-ab1e-8256df10f84d",
   "metadata": {},
   "outputs": [
    {
     "data": {
      "text/html": [
       "<div>\n",
       "<style scoped>\n",
       "    .dataframe tbody tr th:only-of-type {\n",
       "        vertical-align: middle;\n",
       "    }\n",
       "\n",
       "    .dataframe tbody tr th {\n",
       "        vertical-align: top;\n",
       "    }\n",
       "\n",
       "    .dataframe thead th {\n",
       "        text-align: right;\n",
       "    }\n",
       "</style>\n",
       "<table border=\"1\" class=\"dataframe\">\n",
       "  <thead>\n",
       "    <tr style=\"text-align: right;\">\n",
       "      <th></th>\n",
       "      <th>mag</th>\n",
       "      <th>no_mag</th>\n",
       "    </tr>\n",
       "  </thead>\n",
       "  <tbody>\n",
       "    <tr>\n",
       "      <th>0</th>\n",
       "      <td>1</td>\n",
       "      <td>0</td>\n",
       "    </tr>\n",
       "    <tr>\n",
       "      <th>1</th>\n",
       "      <td>3</td>\n",
       "      <td>0</td>\n",
       "    </tr>\n",
       "    <tr>\n",
       "      <th>2</th>\n",
       "      <td>2</td>\n",
       "      <td>0</td>\n",
       "    </tr>\n",
       "    <tr>\n",
       "      <th>3</th>\n",
       "      <td>1</td>\n",
       "      <td>0</td>\n",
       "    </tr>\n",
       "    <tr>\n",
       "      <th>4</th>\n",
       "      <td>1</td>\n",
       "      <td>0</td>\n",
       "    </tr>\n",
       "    <tr>\n",
       "      <th>...</th>\n",
       "      <td>...</td>\n",
       "      <td>...</td>\n",
       "    </tr>\n",
       "    <tr>\n",
       "      <th>71393</th>\n",
       "      <td>0</td>\n",
       "      <td>0</td>\n",
       "    </tr>\n",
       "    <tr>\n",
       "      <th>71394</th>\n",
       "      <td>0</td>\n",
       "      <td>0</td>\n",
       "    </tr>\n",
       "    <tr>\n",
       "      <th>71395</th>\n",
       "      <td>0</td>\n",
       "      <td>0</td>\n",
       "    </tr>\n",
       "    <tr>\n",
       "      <th>71396</th>\n",
       "      <td>0</td>\n",
       "      <td>0</td>\n",
       "    </tr>\n",
       "    <tr>\n",
       "      <th>71397</th>\n",
       "      <td>0</td>\n",
       "      <td>0</td>\n",
       "    </tr>\n",
       "  </tbody>\n",
       "</table>\n",
       "<p>71398 rows × 2 columns</p>\n",
       "</div>"
      ],
      "text/plain": [
       "       mag  no_mag\n",
       "0        1       0\n",
       "1        3       0\n",
       "2        2       0\n",
       "3        1       0\n",
       "4        1       0\n",
       "...    ...     ...\n",
       "71393    0       0\n",
       "71394    0       0\n",
       "71395    0       0\n",
       "71396    0       0\n",
       "71397    0       0\n",
       "\n",
       "[71398 rows x 2 columns]"
      ]
     },
     "execution_count": 34,
     "metadata": {},
     "output_type": "execute_result"
    }
   ],
   "source": [
    "df[['mag', 'no_mag']]"
   ]
  },
  {
   "cell_type": "code",
   "execution_count": 38,
   "id": "5f483af6-8568-4218-9829-c77390ce460e",
   "metadata": {},
   "outputs": [],
   "source": [
    "# replaces -9 with NA\n",
    "df['mag'] = df['mag'].replace(-9, None)"
   ]
  },
  {
   "cell_type": "code",
   "execution_count": 39,
   "id": "9dd80666-f814-43f7-8143-73b5c3991d26",
   "metadata": {},
   "outputs": [
    {
     "data": {
      "text/plain": [
       "array([1, 3, 2, 4, 0, 5, None], dtype=object)"
      ]
     },
     "execution_count": 39,
     "metadata": {},
     "output_type": "execute_result"
    }
   ],
   "source": [
    "df['mag'].unique()"
   ]
  },
  {
   "cell_type": "code",
   "execution_count": null,
   "id": "559ae96f-91ed-4f20-b1f0-aadd60d016e1",
   "metadata": {},
   "outputs": [],
   "source": []
  }
 ],
 "metadata": {
  "kernelspec": {
   "display_name": "envname",
   "language": "python",
   "name": "envname"
  },
  "language_info": {
   "codemirror_mode": {
    "name": "ipython",
    "version": 3
   },
   "file_extension": ".py",
   "mimetype": "text/x-python",
   "name": "python",
   "nbconvert_exporter": "python",
   "pygments_lexer": "ipython3",
   "version": "3.9.19"
  }
 },
 "nbformat": 4,
 "nbformat_minor": 5
}
